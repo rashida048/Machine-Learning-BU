{
 "cells": [
  {
   "cell_type": "code",
   "execution_count": 1,
   "metadata": {},
   "outputs": [],
   "source": [
    "import pandas as pd\n",
    "import numpy as np"
   ]
  },
  {
   "cell_type": "code",
   "execution_count": 2,
   "metadata": {},
   "outputs": [],
   "source": [
    "df = pd.read_csv('Feature_Selection.csv')"
   ]
  },
  {
   "cell_type": "code",
   "execution_count": 3,
   "metadata": {},
   "outputs": [
    {
     "data": {
      "text/html": [
       "<div>\n",
       "<style scoped>\n",
       "    .dataframe tbody tr th:only-of-type {\n",
       "        vertical-align: middle;\n",
       "    }\n",
       "\n",
       "    .dataframe tbody tr th {\n",
       "        vertical-align: top;\n",
       "    }\n",
       "\n",
       "    .dataframe thead th {\n",
       "        text-align: right;\n",
       "    }\n",
       "</style>\n",
       "<table border=\"1\" class=\"dataframe\">\n",
       "  <thead>\n",
       "    <tr style=\"text-align: right;\">\n",
       "      <th></th>\n",
       "      <th>x.aidtst3</th>\n",
       "      <th>employ1</th>\n",
       "      <th>income2</th>\n",
       "      <th>weight2</th>\n",
       "      <th>height3</th>\n",
       "      <th>children</th>\n",
       "      <th>veteran3</th>\n",
       "      <th>blind</th>\n",
       "      <th>renthom1</th>\n",
       "      <th>sex1</th>\n",
       "      <th>...</th>\n",
       "      <th>x.denvst3</th>\n",
       "      <th>x.prace1</th>\n",
       "      <th>x.mrace1</th>\n",
       "      <th>x.exteth3</th>\n",
       "      <th>x.asthms1</th>\n",
       "      <th>x.michd</th>\n",
       "      <th>x.ltasth1</th>\n",
       "      <th>x.casthm1</th>\n",
       "      <th>x.state</th>\n",
       "      <th>havarth3</th>\n",
       "    </tr>\n",
       "  </thead>\n",
       "  <tbody>\n",
       "    <tr>\n",
       "      <th>0</th>\n",
       "      <td>2.0</td>\n",
       "      <td>1.0</td>\n",
       "      <td>8.0</td>\n",
       "      <td>138.0</td>\n",
       "      <td>504.0</td>\n",
       "      <td>2.0</td>\n",
       "      <td>2.0</td>\n",
       "      <td>2.0</td>\n",
       "      <td>1.0</td>\n",
       "      <td>2</td>\n",
       "      <td>...</td>\n",
       "      <td>1</td>\n",
       "      <td>1.0</td>\n",
       "      <td>1.0</td>\n",
       "      <td>1</td>\n",
       "      <td>3</td>\n",
       "      <td>2.0</td>\n",
       "      <td>1</td>\n",
       "      <td>1</td>\n",
       "      <td>27.0</td>\n",
       "      <td>2</td>\n",
       "    </tr>\n",
       "    <tr>\n",
       "      <th>1</th>\n",
       "      <td>1.0</td>\n",
       "      <td>1.0</td>\n",
       "      <td>4.0</td>\n",
       "      <td>240.0</td>\n",
       "      <td>600.0</td>\n",
       "      <td>88.0</td>\n",
       "      <td>2.0</td>\n",
       "      <td>1.0</td>\n",
       "      <td>2.0</td>\n",
       "      <td>1</td>\n",
       "      <td>...</td>\n",
       "      <td>2</td>\n",
       "      <td>1.0</td>\n",
       "      <td>1.0</td>\n",
       "      <td>2</td>\n",
       "      <td>3</td>\n",
       "      <td>2.0</td>\n",
       "      <td>1</td>\n",
       "      <td>1</td>\n",
       "      <td>72.0</td>\n",
       "      <td>2</td>\n",
       "    </tr>\n",
       "    <tr>\n",
       "      <th>2</th>\n",
       "      <td>1.0</td>\n",
       "      <td>1.0</td>\n",
       "      <td>6.0</td>\n",
       "      <td>120.0</td>\n",
       "      <td>504.0</td>\n",
       "      <td>88.0</td>\n",
       "      <td>2.0</td>\n",
       "      <td>2.0</td>\n",
       "      <td>1.0</td>\n",
       "      <td>2</td>\n",
       "      <td>...</td>\n",
       "      <td>1</td>\n",
       "      <td>6.0</td>\n",
       "      <td>6.0</td>\n",
       "      <td>2</td>\n",
       "      <td>3</td>\n",
       "      <td>2.0</td>\n",
       "      <td>1</td>\n",
       "      <td>1</td>\n",
       "      <td>31.0</td>\n",
       "      <td>2</td>\n",
       "    </tr>\n",
       "    <tr>\n",
       "      <th>3</th>\n",
       "      <td>2.0</td>\n",
       "      <td>7.0</td>\n",
       "      <td>77.0</td>\n",
       "      <td>133.0</td>\n",
       "      <td>502.0</td>\n",
       "      <td>88.0</td>\n",
       "      <td>2.0</td>\n",
       "      <td>2.0</td>\n",
       "      <td>1.0</td>\n",
       "      <td>2</td>\n",
       "      <td>...</td>\n",
       "      <td>1</td>\n",
       "      <td>1.0</td>\n",
       "      <td>1.0</td>\n",
       "      <td>2</td>\n",
       "      <td>3</td>\n",
       "      <td>2.0</td>\n",
       "      <td>1</td>\n",
       "      <td>1</td>\n",
       "      <td>45.0</td>\n",
       "      <td>2</td>\n",
       "    </tr>\n",
       "    <tr>\n",
       "      <th>4</th>\n",
       "      <td>9.0</td>\n",
       "      <td>7.0</td>\n",
       "      <td>8.0</td>\n",
       "      <td>170.0</td>\n",
       "      <td>505.0</td>\n",
       "      <td>88.0</td>\n",
       "      <td>2.0</td>\n",
       "      <td>2.0</td>\n",
       "      <td>1.0</td>\n",
       "      <td>2</td>\n",
       "      <td>...</td>\n",
       "      <td>1</td>\n",
       "      <td>1.0</td>\n",
       "      <td>1.0</td>\n",
       "      <td>1</td>\n",
       "      <td>3</td>\n",
       "      <td>2.0</td>\n",
       "      <td>1</td>\n",
       "      <td>1</td>\n",
       "      <td>24.0</td>\n",
       "      <td>2</td>\n",
       "    </tr>\n",
       "  </tbody>\n",
       "</table>\n",
       "<p>5 rows × 108 columns</p>\n",
       "</div>"
      ],
      "text/plain": [
       "   x.aidtst3  employ1  income2  weight2  height3  children  veteran3  blind  \\\n",
       "0        2.0      1.0      8.0    138.0    504.0       2.0       2.0    2.0   \n",
       "1        1.0      1.0      4.0    240.0    600.0      88.0       2.0    1.0   \n",
       "2        1.0      1.0      6.0    120.0    504.0      88.0       2.0    2.0   \n",
       "3        2.0      7.0     77.0    133.0    502.0      88.0       2.0    2.0   \n",
       "4        9.0      7.0      8.0    170.0    505.0      88.0       2.0    2.0   \n",
       "\n",
       "   renthom1  sex1  ...  x.denvst3  x.prace1  x.mrace1  x.exteth3  x.asthms1  \\\n",
       "0       1.0     2  ...          1       1.0       1.0          1          3   \n",
       "1       2.0     1  ...          2       1.0       1.0          2          3   \n",
       "2       1.0     2  ...          1       6.0       6.0          2          3   \n",
       "3       1.0     2  ...          1       1.0       1.0          2          3   \n",
       "4       1.0     2  ...          1       1.0       1.0          1          3   \n",
       "\n",
       "   x.michd  x.ltasth1  x.casthm1  x.state  havarth3  \n",
       "0      2.0          1          1     27.0         2  \n",
       "1      2.0          1          1     72.0         2  \n",
       "2      2.0          1          1     31.0         2  \n",
       "3      2.0          1          1     45.0         2  \n",
       "4      2.0          1          1     24.0         2  \n",
       "\n",
       "[5 rows x 108 columns]"
      ]
     },
     "execution_count": 3,
     "metadata": {},
     "output_type": "execute_result"
    }
   ],
   "source": [
    "df.head()"
   ]
  },
  {
   "cell_type": "code",
   "execution_count": 10,
   "metadata": {},
   "outputs": [
    {
     "data": {
      "text/plain": [
       "(11933, 108)"
      ]
     },
     "execution_count": 10,
     "metadata": {},
     "output_type": "execute_result"
    }
   ],
   "source": [
    "df.shape"
   ]
  },
  {
   "cell_type": "code",
   "execution_count": 9,
   "metadata": {},
   "outputs": [
    {
     "data": {
      "text/plain": [
       "Index(['x.aidtst3', 'employ1', 'income2', 'weight2', 'height3', 'children',\n",
       "       'veteran3', 'blind', 'renthom1', 'sex1',\n",
       "       ...\n",
       "       'x.denvst3', 'x.prace1', 'x.mrace1', 'x.exteth3', 'x.asthms1',\n",
       "       'x.michd', 'x.ltasth1', 'x.casthm1', 'x.state', 'havarth3'],\n",
       "      dtype='object', length=108)"
      ]
     },
     "execution_count": 9,
     "metadata": {},
     "output_type": "execute_result"
    }
   ],
   "source": [
    "df.columns"
   ]
  },
  {
   "cell_type": "code",
   "execution_count": 5,
   "metadata": {},
   "outputs": [],
   "source": [
    "X= df.drop(columns=[\"havarth3\"])\n",
    "y= df['havarth3']"
   ]
  },
  {
   "cell_type": "code",
   "execution_count": 4,
   "metadata": {},
   "outputs": [],
   "source": [
    "from sklearn.feature_selection import SelectKBest\n",
    "from sklearn.feature_selection import f_classif"
   ]
  },
  {
   "cell_type": "code",
   "execution_count": 13,
   "metadata": {},
   "outputs": [],
   "source": [
    "uni = SelectKBest(score_func = f_classif, k = 10)\n",
    "fit = uni.fit(X, y)"
   ]
  },
  {
   "cell_type": "code",
   "execution_count": 14,
   "metadata": {},
   "outputs": [],
   "source": [
    "best = fit.transform(X)"
   ]
  },
  {
   "cell_type": "code",
   "execution_count": 15,
   "metadata": {},
   "outputs": [
    {
     "data": {
      "text/plain": [
       "['employ1',\n",
       " 'rmvteth4',\n",
       " 'genhlth',\n",
       " 'x.age.g',\n",
       " 'x.age80',\n",
       " 'x.ageg5yr',\n",
       " 'x.age65yr',\n",
       " 'x.rfhlth',\n",
       " 'x.phys14d',\n",
       " 'x.hcvu651']"
      ]
     },
     "execution_count": 15,
     "metadata": {},
     "output_type": "execute_result"
    }
   ],
   "source": [
    "X.columns[fit.get_support(indices=True)].tolist()"
   ]
  },
  {
   "cell_type": "markdown",
   "metadata": {},
   "source": [
    "#### PCA"
   ]
  },
  {
   "cell_type": "code",
   "execution_count": 16,
   "metadata": {},
   "outputs": [],
   "source": [
    "from sklearn.decomposition import PCA\n",
    "\n",
    "pca = PCA(n_components = 10)\n",
    "x = pca.fit_transform(X)"
   ]
  },
  {
   "cell_type": "code",
   "execution_count": 17,
   "metadata": {},
   "outputs": [
    {
     "data": {
      "text/plain": [
       "Index(['x.aidtst3', 'employ1', 'income2', 'weight2', 'height3', 'children',\n",
       "       'veteran3', 'blind', 'renthom1', 'sex1'],\n",
       "      dtype='object')"
      ]
     },
     "execution_count": 17,
     "metadata": {},
     "output_type": "execute_result"
    }
   ],
   "source": [
    "model=PCA(n_components=10).fit(x)\n",
    "n_pcs = model.components_.shape[0]\n",
    "most_important = [np.abs(model.components_[i]).argmax() for i in range(n_pcs)]\n",
    "df.columns[most_important]"
   ]
  },
  {
   "cell_type": "code",
   "execution_count": 18,
   "metadata": {},
   "outputs": [
    {
     "data": {
      "text/plain": [
       "array([[ 1.00000000e+00,  0.00000000e+00,  0.00000000e+00,\n",
       "         0.00000000e+00,  0.00000000e+00,  0.00000000e+00,\n",
       "         0.00000000e+00,  0.00000000e+00,  0.00000000e+00,\n",
       "         0.00000000e+00],\n",
       "       [-0.00000000e+00,  1.00000000e+00,  8.10683999e-15,\n",
       "         7.24904126e-19, -1.10595757e-18, -1.35790982e-18,\n",
       "        -5.52223685e-18,  1.74804837e-17, -3.68769169e-18,\n",
       "        -2.30805335e-18],\n",
       "       [ 0.00000000e+00, -8.08090507e-15,  1.00000000e+00,\n",
       "         5.49541958e-17, -3.86504098e-17,  3.11128141e-17,\n",
       "        -3.05142811e-17, -3.82038884e-16, -6.97021476e-19,\n",
       "         2.67224144e-17],\n",
       "       [ 0.00000000e+00, -1.62404599e-17,  1.73483951e-16,\n",
       "         1.00000000e+00, -2.12328023e-15,  3.08818919e-16,\n",
       "        -2.97492126e-16, -2.36844123e-16,  4.84968828e-17,\n",
       "         6.82797980e-18],\n",
       "       [ 0.00000000e+00, -1.49273612e-18,  8.51818386e-17,\n",
       "         1.84402515e-15,  1.00000000e+00, -6.80037003e-16,\n",
       "         5.22565894e-16,  3.34567143e-16, -5.44658333e-18,\n",
       "        -8.98422232e-17],\n",
       "       [-0.00000000e+00,  1.44363943e-18, -3.21817403e-17,\n",
       "        -3.05141053e-16,  5.42741336e-16,  1.00000000e+00,\n",
       "         1.63983147e-14,  9.96185124e-17,  1.66025606e-16,\n",
       "        -3.99840546e-16],\n",
       "       [ 0.00000000e+00,  2.18877962e-17, -4.17091134e-18,\n",
       "         3.19341166e-16, -4.92866389e-16, -1.63359391e-14,\n",
       "         1.00000000e+00,  4.11088888e-16, -6.36785208e-17,\n",
       "        -6.91245284e-17],\n",
       "       [ 0.00000000e+00,  6.29824700e-18,  5.37658456e-16,\n",
       "         3.42556093e-16, -4.41825378e-17, -7.37966109e-18,\n",
       "        -4.51445529e-16,  1.00000000e+00, -1.56445165e-15,\n",
       "        -2.65026548e-16],\n",
       "       [-0.00000000e+00,  2.42050270e-18, -2.35478778e-17,\n",
       "        -9.03314696e-17, -4.12164423e-17,  3.44968585e-17,\n",
       "         8.85011451e-17,  1.49635690e-15,  1.00000000e+00,\n",
       "        -1.71061164e-15],\n",
       "       [-0.00000000e+00, -7.41179336e-18, -2.09122031e-17,\n",
       "        -5.33851008e-17,  8.17017368e-17,  6.25955920e-16,\n",
       "         1.12758820e-16,  1.20455208e-16,  1.75986688e-15,\n",
       "         1.00000000e+00]])"
      ]
     },
     "execution_count": 18,
     "metadata": {},
     "output_type": "execute_result"
    }
   ],
   "source": [
    "model.components_"
   ]
  },
  {
   "cell_type": "markdown",
   "metadata": {},
   "source": [
    "#### Correlation Matrix"
   ]
  },
  {
   "cell_type": "code",
   "execution_count": 19,
   "metadata": {},
   "outputs": [
    {
     "data": {
      "text/plain": [
       "Index(['employ1', 'genhlth', 'x.age.g', 'x.age80', 'x.ageg5yr', 'x.age65yr',\n",
       "       'x.hcvu651', 'havarth3'],\n",
       "      dtype='object')"
      ]
     },
     "execution_count": 19,
     "metadata": {},
     "output_type": "execute_result"
    }
   ],
   "source": [
    "cor = df.corr()\n",
    "cor_target = abs(cor[\"havarth3\"])\n",
    "relevant_features = cor_target[cor_target > 0.2]\n",
    "relevant_features.index"
   ]
  },
  {
   "cell_type": "markdown",
   "metadata": {},
   "source": [
    "#### Wrapper method"
   ]
  },
  {
   "cell_type": "code",
   "execution_count": 22,
   "metadata": {},
   "outputs": [
    {
     "data": {
      "text/plain": [
       "const        2.132756e-01\n",
       "x.aidtst3    6.269686e-01\n",
       "employ1      4.025786e-20\n",
       "income2      3.931291e-04\n",
       "weight2      2.122768e-01\n",
       "                 ...     \n",
       "x.asthms1    3.445036e-01\n",
       "x.michd      3.478433e-01\n",
       "x.ltasth1    3.081917e-03\n",
       "x.casthm1    9.802652e-01\n",
       "x.state      6.724318e-01\n",
       "Length: 108, dtype: float64"
      ]
     },
     "execution_count": 22,
     "metadata": {},
     "output_type": "execute_result"
    }
   ],
   "source": [
    "import statsmodels.api as sm\n",
    "X_new = sm.add_constant(X)\n",
    "model = sm.OLS(y, X_new).fit()\n",
    "model.pvalues"
   ]
  },
  {
   "cell_type": "code",
   "execution_count": 24,
   "metadata": {},
   "outputs": [
    {
     "data": {
      "text/plain": [
       "['employ1',\n",
       " 'income2',\n",
       " 'blind',\n",
       " 'sex1',\n",
       " 'pneuvac4',\n",
       " 'diffwalk',\n",
       " 'diffdres',\n",
       " 'smoke100',\n",
       " 'rmvteth4',\n",
       " 'physhlth',\n",
       " 'menthlth',\n",
       " 'hlthpln1',\n",
       " 'genhlth',\n",
       " 'persdoc2',\n",
       " 'checkup1',\n",
       " 'addepev2',\n",
       " 'chcscncr',\n",
       " 'asthma3',\n",
       " 'qstlang',\n",
       " 'x.metstat',\n",
       " 'htin4',\n",
       " 'wtkg3',\n",
       " 'x.age.g',\n",
       " 'x.ageg5yr',\n",
       " 'x.age65yr',\n",
       " 'x.chldcnt',\n",
       " 'x.incomg',\n",
       " 'x.rfseat3',\n",
       " 'x.rfsmok3',\n",
       " 'x.urbstat',\n",
       " 'x.llcpwt2',\n",
       " 'x.rfhlth',\n",
       " 'x.imprace',\n",
       " 'x.wt2rake',\n",
       " 'x.strwt',\n",
       " 'x.phys14d',\n",
       " 'x.hcvu651',\n",
       " 'x.denvst3',\n",
       " 'x.prace1',\n",
       " 'x.mrace1',\n",
       " 'x.ltasth1']"
      ]
     },
     "execution_count": 24,
     "metadata": {},
     "output_type": "execute_result"
    }
   ],
   "source": [
    "selected_features = list(X.columns)\n",
    "pmax = 1\n",
    "while (len(selected_features)>0):\n",
    "    p= []\n",
    "    X_new = X[selected_features]\n",
    "    X_new = sm.add_constant(X_new)\n",
    "    model = sm.OLS(y,X_new).fit()\n",
    "    p = pd.Series(model.pvalues.values[1:],index = selected_features)      \n",
    "    pmax = max(p)\n",
    "    feature_pmax = p.idxmax()\n",
    "    if(pmax>0.05):\n",
    "        selected_features.remove(feature_pmax)\n",
    "    else:\n",
    "        break\n",
    "selected_features"
   ]
  },
  {
   "cell_type": "code",
   "execution_count": null,
   "metadata": {},
   "outputs": [],
   "source": []
  }
 ],
 "metadata": {
  "kernelspec": {
   "display_name": "Python 3",
   "language": "python",
   "name": "python3"
  },
  "language_info": {
   "codemirror_mode": {
    "name": "ipython",
    "version": 3
   },
   "file_extension": ".py",
   "mimetype": "text/x-python",
   "name": "python",
   "nbconvert_exporter": "python",
   "pygments_lexer": "ipython3",
   "version": "3.8.5"
  }
 },
 "nbformat": 4,
 "nbformat_minor": 4
}
